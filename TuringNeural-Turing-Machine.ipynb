{
 "cells": [
  {
   "cell_type": "code",
   "execution_count": 1,
   "id": "9d10df25-05ad-4b10-b0e6-05ab4567f493",
   "metadata": {},
   "outputs": [],
   "source": [
    "# implement a Turing machine for the language L = {a^mb^na^mb^n ∣ m,n≥0}"
   ]
  },
  {
   "cell_type": "code",
   "execution_count": 2,
   "id": "c4ff71bb-4b11-4bbc-a2d1-38d7b283cb86",
   "metadata": {},
   "outputs": [],
   "source": [
    "# It can be easily figured out that the language will be accepted in four cases:\n",
    "# Blank string.\n",
    "# List contains only a’s and their total number is even.\n",
    "# List contains only b’s and their total number is even.\n",
    "# The input is a combination of both a and b’s and follows the rule of the language."
   ]
  },
  {
   "cell_type": "code",
   "execution_count": 3,
   "id": "4a658c11-002d-4984-b4ba-66aa2b8ebecb",
   "metadata": {},
   "outputs": [],
   "source": [
    "def action(input_char, replace_with, move, new_state):\n",
    "    global tapehead, state\n",
    "    if tape[tapehead] == input_char:\n",
    "        tape[tapehead] = replace_with\n",
    "        state = new_state\n",
    "        if move == 'L':\n",
    "            tapehead -= 1\n",
    "        else:\n",
    "            tapehead += 1\n",
    "        return True\n",
    "    return False"
   ]
  },
  {
   "cell_type": "code",
   "execution_count": 6,
   "id": "a1d9d16a-4371-485d-bfaa-fe1680d3f7ab",
   "metadata": {},
   "outputs": [
    {
     "name": "stdin",
     "output_type": "stream",
     "text": [
      "Enter String:  (blank string)\n"
     ]
    },
    {
     "name": "stdout",
     "output_type": "stream",
     "text": [
      "['B', '(', 'b', 'l', 'a', 'n', 'k', ' ', 's', 't', 'r', 'i', 'n', 'g', ')', 'B'] with tapehead at index 1 on state 0\n",
      "String not accepted on state =  0\n"
     ]
    }
   ],
   "source": [
    "string = input(\"Enter String: \")\n",
    "length = len(string) + 2\n",
    "tape = ['B']*length\n",
    "i = 1\n",
    "tapehead = 1\n",
    "for s in string: #loop to place string in tape\n",
    "    tape[i] = s\n",
    "    i += 1\n",
    "\n",
    "state = 0\n",
    "#assigning characters to variable so that don't have to use characters each time\n",
    "a, b, X, Z, U, V, R, L, B = 'a', 'b', 'X', 'Z', 'U', 'V', 'R', 'L', 'B' \n",
    "oldtapehead = -1\n",
    "accept = False\n",
    "while(oldtapehead != tapehead): #if tapehead not moving that means terminate Turing machine\n",
    "    oldtapehead = tapehead\n",
    "    print(tape , \"with tapehead at index\", tapehead, \"on state\" , state)\n",
    "    \n",
    "    if state == 0:\n",
    "        if action(a, X, R, 1) or action(B, B, R, 10) or action(Z, Z, R, 7) or action(b, U, R, 4):\n",
    "            pass\n",
    "        \n",
    "    elif state == 1:\n",
    "        if action(a, a, R, 1) or action(b, b, R, 2) or action(B, B, L, 11):\n",
    "            pass\n",
    "        \n",
    "    elif state == 2:\n",
    "        if action(b, b, R, 2) or action(Z, Z, R, 2) or action(a, Z, L, 3):\n",
    "            pass\n",
    "            \n",
    "    elif state == 3:\n",
    "        if action(b, b, L, 3) or action(Z, Z, L, 3) or action(a, a, L, 3) or action(X, X, R, 0):\n",
    "            pass\n",
    "    \n",
    "    elif state == 4:\n",
    "        if action(b, b, R, 4) or action(Z, Z, R, 5) or action(B, B, L, 15):\n",
    "            pass\n",
    "        \n",
    "    elif state == 5:\n",
    "        if action(Z, Z, R, 5) or action(V, V, R, 5) or action(b, V, L, 6):\n",
    "            pass\n",
    "            \n",
    "    elif state == 6:\n",
    "        if action(Z, Z, L, 6) or action(V, V, L, 6) or action(b, b, L, 6) or action(U, U, R, 0):\n",
    "            pass\n",
    "            \n",
    "    elif state == 7:\n",
    "        if action(Z, Z, R, 7) or action(V, V, R, 8):\n",
    "            pass\n",
    "            \n",
    "    elif state == 8:\n",
    "        if action(V, V, R, 8) or action(B, B, R, 9):\n",
    "            pass\n",
    "        \n",
    "    elif state == 11:\n",
    "        if action(a, a, L, 11) or action(X, X, R, 12):\n",
    "            pass\n",
    "        \n",
    "    elif state == 12:\n",
    "        if action(a, Z, R, 13):\n",
    "            pass\n",
    "        \n",
    "    elif state == 13:\n",
    "        if action(a, X, R, 12) or action(B, B, R, 14):\n",
    "            pass\n",
    "            \n",
    "    elif state == 15:\n",
    "        if action(b, b, L, 15) or action(U, U, R, 16):\n",
    "            pass\n",
    "            \n",
    "    elif state == 16:\n",
    "        if action(b, V, R, 17):\n",
    "            pass\n",
    "            \n",
    "    elif state == 17:\n",
    "        if action(b, U, R, 16) or action(B, B, R, 18):\n",
    "            pass\n",
    "            \n",
    "    else:\n",
    "        accept = True\n",
    "        \n",
    "            \n",
    "if accept:\n",
    "    print(\"String accepted on state = \", state)\n",
    "else:\n",
    "    print(\"String not accepted on state = \", state)"
   ]
  },
  {
   "cell_type": "code",
   "execution_count": null,
   "id": "7a21323e-b74a-4556-8260-dd9d61a5019f",
   "metadata": {},
   "outputs": [],
   "source": []
  }
 ],
 "metadata": {
  "kernelspec": {
   "display_name": "Python 3 (ipykernel)",
   "language": "python",
   "name": "python3"
  },
  "language_info": {
   "codemirror_mode": {
    "name": "ipython",
    "version": 3
   },
   "file_extension": ".py",
   "mimetype": "text/x-python",
   "name": "python",
   "nbconvert_exporter": "python",
   "pygments_lexer": "ipython3",
   "version": "3.11.5"
  }
 },
 "nbformat": 4,
 "nbformat_minor": 5
}
